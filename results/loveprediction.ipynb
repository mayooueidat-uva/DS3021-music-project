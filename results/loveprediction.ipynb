{
 "cells": [
  {
   "cell_type": "markdown",
   "id": "edf30c9f",
   "metadata": {},
   "source": [
    "Logistic Regression to predict if songs contain love"
   ]
  },
  {
   "cell_type": "code",
   "execution_count": null,
   "id": "f64ac315",
   "metadata": {
    "vscode": {
     "languageId": "plaintext"
    }
   },
   "outputs": [],
   "source": [
    "import numpy as np\n",
    "import matplotlib.pyplot as plt\n",
    "from scipy.stats import norm\n",
    "import pandas as pd\n",
    "import seaborn as sns\n",
    "\n",
    "\n",
    "from sklearn.linear_model import LogisticRegression"
   ]
  },
  {
   "cell_type": "code",
   "execution_count": null,
   "id": "303c6fa0",
   "metadata": {
    "vscode": {
     "languageId": "plaintext"
    }
   },
   "outputs": [],
   "source": [
    "#Read in datasets\n",
    "spotify_data = pd.read_csv(\"../data/Hot 100 Audio Features.csv\")\n",
    "billboard_data = pd.read_csv(\"../data/Hot Stuff.csv\")"
   ]
  },
  {
   "cell_type": "code",
   "execution_count": null,
   "id": "24a8183a",
   "metadata": {
    "vscode": {
     "languageId": "plaintext"
    }
   },
   "outputs": [],
   "source": [
    "#Cleaning from EDA\n",
    "\n",
    "def point_calculation_final(val): \n",
    "    new_val = 101-val\n",
    "    return new_val\n",
    "billboard_data[\"Popularity Points Awarded\"] = billboard_data[\"Week Position\"].apply(point_calculation_final)\n",
    "\n",
    "total_points_by_song = pd.DataFrame(billboard_data.groupby(billboard_data[\"Song\"])[\"Popularity Points Awarded\"].sum())\n",
    "\n",
    "super_popular_pop = total_points_by_song.sort_values(by=\"Popularity Points Awarded\", ascending=False)\n",
    "list_of_songs = spotify_data[\"Song\"].to_list()\n",
    "\n",
    "points_by_song_real = pd.DataFrame(billboard_data.groupby([\"Song\", \"Performer\"])[\"Popularity Points Awarded\"].sum().reset_index())\n",
    "\n",
    "real_super_popular_pop = points_by_song_real.sort_values(by=\"Popularity Points Awarded\", ascending=False)\n",
    "\n",
    "spotify_data[\"Popularity Points Awarded\"] = ''\n",
    "points_songs_list = points_by_song_real[\"Popularity Points Awarded\"].to_list()\n",
    "artists_songs_list = points_by_song_real[\"Performer\"].to_list()\n",
    "titles_songs_list = points_by_song_real[\"Song\"].to_list()\n",
    "def append_pts_test(points, artists, titles, spotify):\n",
    "    for i in range(len(points)): \n",
    "        point_value = points[i]\n",
    "        artist = artists[i]\n",
    "        title = titles[i]\n",
    "        index = spotify[(spotify['Performer'] == artist) & (spotify['Song'] == title)].index\n",
    "        spotify.loc[index, \"Popularity Points Awarded\"] = point_value\n",
    "    return spotify\n",
    "\n",
    "spotify_data = spotify_data.merge(points_by_song_real, on=['Performer', 'Song'], how='left') \n",
    "\n",
    "spotify_data = spotify_data.drop([\"Popularity Points Awarded_x\"], axis=1)\n",
    "spotify_data[\"Popularity Points Awarded\"] = spotify_data[\"Popularity Points Awarded_y\"]\n",
    "spotify_data = spotify_data.drop([\"Popularity Points Awarded_y\"], axis=1)\n",
    "song_attribute_data = spotify_data\n",
    "\n",
    "titles = song_attribute_data[\"Song\"]\n",
    "titles = titles.str.split(pat=\" \", expand=True)\n",
    "\n",
    "song_attribute_data[\"Has Word Love?\"] = song_attribute_data['Song'].str.contains(\"Love\")\n",
    "song_attribute_data_love = song_attribute_data[song_attribute_data[\"Has Word Love?\"]]\n"
   ]
  },
  {
   "cell_type": "code",
   "execution_count": null,
   "id": "53896a96",
   "metadata": {
    "vscode": {
     "languageId": "plaintext"
    }
   },
   "outputs": [],
   "source": [
    "#Prepare X and y\n",
    "y = [song_attribute_data[\"Has Word Love?\"]] \n",
    "X = song_attribute_data.loc[:,[\"speechiness\", \"valence\", \"tempo\", \"time_signature\", \"Popularity Points Awarded\"]]\n",
    "\n",
    "def minmax(z):\n",
    "    z = (z-min(z))/(max(z)-min(z))\n",
    "    return z\n",
    "X = X.apply(minmax,axis=1)"
   ]
  },
  {
   "cell_type": "code",
   "execution_count": null,
   "id": "01e8114f",
   "metadata": {
    "vscode": {
     "languageId": "plaintext"
    }
   },
   "outputs": [],
   "source": [
    "#Run Regression \n",
    "reg = LogisticRegression(penalty = None,\n",
    "                         fit_intercept=True, \n",
    "                         solver = 'newton-cholesky', \n",
    "                         max_iter=1000).fit(X,y)\n",
    "print('Accuracy: ', reg.score(X,y))\n",
    "\n"
   ]
  }
 ],
 "metadata": {
  "language_info": {
   "name": "python"
  }
 },
 "nbformat": 4,
 "nbformat_minor": 5
}
