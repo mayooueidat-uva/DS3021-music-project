{
 "cells": [
  {
   "cell_type": "markdown",
   "id": "edf30c9f",
   "metadata": {},
   "source": [
    "Logistic Regression to predict if songs contain love"
   ]
  },
  {
   "cell_type": "code",
   "execution_count": null,
   "id": "f64ac315",
   "metadata": {
    "vscode": {
     "languageId": "plaintext"
    }
   },
   "outputs": [],
   "source": [
    "import numpy as np\n",
    "import matplotlib.pyplot as plt\n",
    "from scipy.stats import norm\n",
    "import pandas as pd\n",
    "import seaborn as sns"
   ]
  }
 ],
 "metadata": {
  "language_info": {
   "name": "python"
  }
 },
 "nbformat": 4,
 "nbformat_minor": 5
}
